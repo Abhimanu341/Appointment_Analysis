{
  "nbformat": 4,
  "nbformat_minor": 0,
  "metadata": {
    "colab": {
      "provenance": []
    },
    "kernelspec": {
      "name": "python3",
      "display_name": "Python 3"
    },
    "language_info": {
      "name": "python"
    }
  },
  "cells": [
    {
      "cell_type": "code",
      "source": [
        "from google.colab import drive\n",
        "drive.mount('/content/drive')"
      ],
      "metadata": {
        "colab": {
          "base_uri": "https://localhost:8080/"
        },
        "id": "KgfpfScuX_md",
        "outputId": "6e484c73-6438-4487-feb9-e57e0a89a407"
      },
      "execution_count": 2,
      "outputs": [
        {
          "output_type": "stream",
          "name": "stdout",
          "text": [
            "Mounted at /content/drive\n"
          ]
        }
      ]
    },
    {
      "cell_type": "code",
      "source": [
        "import numpy as np\n",
        "import pandas as pd"
      ],
      "metadata": {
        "id": "-gU43Q63YUnQ"
      },
      "execution_count": 3,
      "outputs": []
    },
    {
      "cell_type": "code",
      "source": [
        "df=pd.read_csv('/content/drive/MyDrive/DATASETS/Appointments_Dset.csv')"
      ],
      "metadata": {
        "id": "hdKGt292YHPS"
      },
      "execution_count": 4,
      "outputs": []
    },
    {
      "cell_type": "code",
      "source": [
        "df.head(10)"
      ],
      "metadata": {
        "colab": {
          "base_uri": "https://localhost:8080/",
          "height": 554
        },
        "id": "zxZecuaAYaDk",
        "outputId": "03587e7b-c2e5-4d3f-95ea-3f0a178736e2"
      },
      "execution_count": 5,
      "outputs": [
        {
          "output_type": "execute_result",
          "data": {
            "text/plain": [
              "      PatientId  AppointmentID Gender          ScheduledDay  \\\n",
              "0  2.987250e+13        5642903      F  2016-04-29T18:38:08Z   \n",
              "1  5.589978e+14        5642503      M  2016-04-29T16:08:27Z   \n",
              "2  4.262962e+12        5642549      F  2016-04-29T16:19:04Z   \n",
              "3  8.679512e+11        5642828      F  2016-04-29T17:29:31Z   \n",
              "4  8.841186e+12        5642494      F  2016-04-29T16:07:23Z   \n",
              "5  9.598513e+13        5626772      F  2016-04-27T08:36:51Z   \n",
              "6  7.336882e+14        5630279      F  2016-04-27T15:05:12Z   \n",
              "7  3.449833e+12        5630575      F  2016-04-27T15:39:58Z   \n",
              "8  5.639473e+13        5638447      F  2016-04-29T08:02:16Z   \n",
              "9  7.812456e+13        5629123      F  2016-04-27T12:48:25Z   \n",
              "\n",
              "         AppointmentDay  Age      Neighbourhood  Scholarship  Hipertension  \\\n",
              "0  2016-04-29T00:00:00Z   62    JARDIM DA PENHA            0             1   \n",
              "1  2016-04-29T00:00:00Z   56    JARDIM DA PENHA            0             0   \n",
              "2  2016-04-29T00:00:00Z   62      MATA DA PRAIA            0             0   \n",
              "3  2016-04-29T00:00:00Z    8  PONTAL DE CAMBURI            0             0   \n",
              "4  2016-04-29T00:00:00Z   56    JARDIM DA PENHA            0             1   \n",
              "5  2016-04-29T00:00:00Z   76          REPÚBLICA            0             1   \n",
              "6  2016-04-29T00:00:00Z   23         GOIABEIRAS            0             0   \n",
              "7  2016-04-29T00:00:00Z   39         GOIABEIRAS            0             0   \n",
              "8  2016-04-29T00:00:00Z   21         ANDORINHAS            0             0   \n",
              "9  2016-04-29T00:00:00Z   19          CONQUISTA            0             0   \n",
              "\n",
              "   Diabetes  Alcoholism  Handcap  SMS_received No-show  \n",
              "0         0           0        0             0      No  \n",
              "1         0           0        0             0      No  \n",
              "2         0           0        0             0      No  \n",
              "3         0           0        0             0      No  \n",
              "4         1           0        0             0      No  \n",
              "5         0           0        0             0      No  \n",
              "6         0           0        0             0     Yes  \n",
              "7         0           0        0             0     Yes  \n",
              "8         0           0        0             0      No  \n",
              "9         0           0        0             0      No  "
            ],
            "text/html": [
              "\n",
              "  <div id=\"df-9b5a0b76-b00b-4ae9-9531-8f00c4390d7b\" class=\"colab-df-container\">\n",
              "    <div>\n",
              "<style scoped>\n",
              "    .dataframe tbody tr th:only-of-type {\n",
              "        vertical-align: middle;\n",
              "    }\n",
              "\n",
              "    .dataframe tbody tr th {\n",
              "        vertical-align: top;\n",
              "    }\n",
              "\n",
              "    .dataframe thead th {\n",
              "        text-align: right;\n",
              "    }\n",
              "</style>\n",
              "<table border=\"1\" class=\"dataframe\">\n",
              "  <thead>\n",
              "    <tr style=\"text-align: right;\">\n",
              "      <th></th>\n",
              "      <th>PatientId</th>\n",
              "      <th>AppointmentID</th>\n",
              "      <th>Gender</th>\n",
              "      <th>ScheduledDay</th>\n",
              "      <th>AppointmentDay</th>\n",
              "      <th>Age</th>\n",
              "      <th>Neighbourhood</th>\n",
              "      <th>Scholarship</th>\n",
              "      <th>Hipertension</th>\n",
              "      <th>Diabetes</th>\n",
              "      <th>Alcoholism</th>\n",
              "      <th>Handcap</th>\n",
              "      <th>SMS_received</th>\n",
              "      <th>No-show</th>\n",
              "    </tr>\n",
              "  </thead>\n",
              "  <tbody>\n",
              "    <tr>\n",
              "      <th>0</th>\n",
              "      <td>2.987250e+13</td>\n",
              "      <td>5642903</td>\n",
              "      <td>F</td>\n",
              "      <td>2016-04-29T18:38:08Z</td>\n",
              "      <td>2016-04-29T00:00:00Z</td>\n",
              "      <td>62</td>\n",
              "      <td>JARDIM DA PENHA</td>\n",
              "      <td>0</td>\n",
              "      <td>1</td>\n",
              "      <td>0</td>\n",
              "      <td>0</td>\n",
              "      <td>0</td>\n",
              "      <td>0</td>\n",
              "      <td>No</td>\n",
              "    </tr>\n",
              "    <tr>\n",
              "      <th>1</th>\n",
              "      <td>5.589978e+14</td>\n",
              "      <td>5642503</td>\n",
              "      <td>M</td>\n",
              "      <td>2016-04-29T16:08:27Z</td>\n",
              "      <td>2016-04-29T00:00:00Z</td>\n",
              "      <td>56</td>\n",
              "      <td>JARDIM DA PENHA</td>\n",
              "      <td>0</td>\n",
              "      <td>0</td>\n",
              "      <td>0</td>\n",
              "      <td>0</td>\n",
              "      <td>0</td>\n",
              "      <td>0</td>\n",
              "      <td>No</td>\n",
              "    </tr>\n",
              "    <tr>\n",
              "      <th>2</th>\n",
              "      <td>4.262962e+12</td>\n",
              "      <td>5642549</td>\n",
              "      <td>F</td>\n",
              "      <td>2016-04-29T16:19:04Z</td>\n",
              "      <td>2016-04-29T00:00:00Z</td>\n",
              "      <td>62</td>\n",
              "      <td>MATA DA PRAIA</td>\n",
              "      <td>0</td>\n",
              "      <td>0</td>\n",
              "      <td>0</td>\n",
              "      <td>0</td>\n",
              "      <td>0</td>\n",
              "      <td>0</td>\n",
              "      <td>No</td>\n",
              "    </tr>\n",
              "    <tr>\n",
              "      <th>3</th>\n",
              "      <td>8.679512e+11</td>\n",
              "      <td>5642828</td>\n",
              "      <td>F</td>\n",
              "      <td>2016-04-29T17:29:31Z</td>\n",
              "      <td>2016-04-29T00:00:00Z</td>\n",
              "      <td>8</td>\n",
              "      <td>PONTAL DE CAMBURI</td>\n",
              "      <td>0</td>\n",
              "      <td>0</td>\n",
              "      <td>0</td>\n",
              "      <td>0</td>\n",
              "      <td>0</td>\n",
              "      <td>0</td>\n",
              "      <td>No</td>\n",
              "    </tr>\n",
              "    <tr>\n",
              "      <th>4</th>\n",
              "      <td>8.841186e+12</td>\n",
              "      <td>5642494</td>\n",
              "      <td>F</td>\n",
              "      <td>2016-04-29T16:07:23Z</td>\n",
              "      <td>2016-04-29T00:00:00Z</td>\n",
              "      <td>56</td>\n",
              "      <td>JARDIM DA PENHA</td>\n",
              "      <td>0</td>\n",
              "      <td>1</td>\n",
              "      <td>1</td>\n",
              "      <td>0</td>\n",
              "      <td>0</td>\n",
              "      <td>0</td>\n",
              "      <td>No</td>\n",
              "    </tr>\n",
              "    <tr>\n",
              "      <th>5</th>\n",
              "      <td>9.598513e+13</td>\n",
              "      <td>5626772</td>\n",
              "      <td>F</td>\n",
              "      <td>2016-04-27T08:36:51Z</td>\n",
              "      <td>2016-04-29T00:00:00Z</td>\n",
              "      <td>76</td>\n",
              "      <td>REPÚBLICA</td>\n",
              "      <td>0</td>\n",
              "      <td>1</td>\n",
              "      <td>0</td>\n",
              "      <td>0</td>\n",
              "      <td>0</td>\n",
              "      <td>0</td>\n",
              "      <td>No</td>\n",
              "    </tr>\n",
              "    <tr>\n",
              "      <th>6</th>\n",
              "      <td>7.336882e+14</td>\n",
              "      <td>5630279</td>\n",
              "      <td>F</td>\n",
              "      <td>2016-04-27T15:05:12Z</td>\n",
              "      <td>2016-04-29T00:00:00Z</td>\n",
              "      <td>23</td>\n",
              "      <td>GOIABEIRAS</td>\n",
              "      <td>0</td>\n",
              "      <td>0</td>\n",
              "      <td>0</td>\n",
              "      <td>0</td>\n",
              "      <td>0</td>\n",
              "      <td>0</td>\n",
              "      <td>Yes</td>\n",
              "    </tr>\n",
              "    <tr>\n",
              "      <th>7</th>\n",
              "      <td>3.449833e+12</td>\n",
              "      <td>5630575</td>\n",
              "      <td>F</td>\n",
              "      <td>2016-04-27T15:39:58Z</td>\n",
              "      <td>2016-04-29T00:00:00Z</td>\n",
              "      <td>39</td>\n",
              "      <td>GOIABEIRAS</td>\n",
              "      <td>0</td>\n",
              "      <td>0</td>\n",
              "      <td>0</td>\n",
              "      <td>0</td>\n",
              "      <td>0</td>\n",
              "      <td>0</td>\n",
              "      <td>Yes</td>\n",
              "    </tr>\n",
              "    <tr>\n",
              "      <th>8</th>\n",
              "      <td>5.639473e+13</td>\n",
              "      <td>5638447</td>\n",
              "      <td>F</td>\n",
              "      <td>2016-04-29T08:02:16Z</td>\n",
              "      <td>2016-04-29T00:00:00Z</td>\n",
              "      <td>21</td>\n",
              "      <td>ANDORINHAS</td>\n",
              "      <td>0</td>\n",
              "      <td>0</td>\n",
              "      <td>0</td>\n",
              "      <td>0</td>\n",
              "      <td>0</td>\n",
              "      <td>0</td>\n",
              "      <td>No</td>\n",
              "    </tr>\n",
              "    <tr>\n",
              "      <th>9</th>\n",
              "      <td>7.812456e+13</td>\n",
              "      <td>5629123</td>\n",
              "      <td>F</td>\n",
              "      <td>2016-04-27T12:48:25Z</td>\n",
              "      <td>2016-04-29T00:00:00Z</td>\n",
              "      <td>19</td>\n",
              "      <td>CONQUISTA</td>\n",
              "      <td>0</td>\n",
              "      <td>0</td>\n",
              "      <td>0</td>\n",
              "      <td>0</td>\n",
              "      <td>0</td>\n",
              "      <td>0</td>\n",
              "      <td>No</td>\n",
              "    </tr>\n",
              "  </tbody>\n",
              "</table>\n",
              "</div>\n",
              "    <div class=\"colab-df-buttons\">\n",
              "\n",
              "  <div class=\"colab-df-container\">\n",
              "    <button class=\"colab-df-convert\" onclick=\"convertToInteractive('df-9b5a0b76-b00b-4ae9-9531-8f00c4390d7b')\"\n",
              "            title=\"Convert this dataframe to an interactive table.\"\n",
              "            style=\"display:none;\">\n",
              "\n",
              "  <svg xmlns=\"http://www.w3.org/2000/svg\" height=\"24px\" viewBox=\"0 -960 960 960\">\n",
              "    <path d=\"M120-120v-720h720v720H120Zm60-500h600v-160H180v160Zm220 220h160v-160H400v160Zm0 220h160v-160H400v160ZM180-400h160v-160H180v160Zm440 0h160v-160H620v160ZM180-180h160v-160H180v160Zm440 0h160v-160H620v160Z\"/>\n",
              "  </svg>\n",
              "    </button>\n",
              "\n",
              "  <style>\n",
              "    .colab-df-container {\n",
              "      display:flex;\n",
              "      gap: 12px;\n",
              "    }\n",
              "\n",
              "    .colab-df-convert {\n",
              "      background-color: #E8F0FE;\n",
              "      border: none;\n",
              "      border-radius: 50%;\n",
              "      cursor: pointer;\n",
              "      display: none;\n",
              "      fill: #1967D2;\n",
              "      height: 32px;\n",
              "      padding: 0 0 0 0;\n",
              "      width: 32px;\n",
              "    }\n",
              "\n",
              "    .colab-df-convert:hover {\n",
              "      background-color: #E2EBFA;\n",
              "      box-shadow: 0px 1px 2px rgba(60, 64, 67, 0.3), 0px 1px 3px 1px rgba(60, 64, 67, 0.15);\n",
              "      fill: #174EA6;\n",
              "    }\n",
              "\n",
              "    .colab-df-buttons div {\n",
              "      margin-bottom: 4px;\n",
              "    }\n",
              "\n",
              "    [theme=dark] .colab-df-convert {\n",
              "      background-color: #3B4455;\n",
              "      fill: #D2E3FC;\n",
              "    }\n",
              "\n",
              "    [theme=dark] .colab-df-convert:hover {\n",
              "      background-color: #434B5C;\n",
              "      box-shadow: 0px 1px 3px 1px rgba(0, 0, 0, 0.15);\n",
              "      filter: drop-shadow(0px 1px 2px rgba(0, 0, 0, 0.3));\n",
              "      fill: #FFFFFF;\n",
              "    }\n",
              "  </style>\n",
              "\n",
              "    <script>\n",
              "      const buttonEl =\n",
              "        document.querySelector('#df-9b5a0b76-b00b-4ae9-9531-8f00c4390d7b button.colab-df-convert');\n",
              "      buttonEl.style.display =\n",
              "        google.colab.kernel.accessAllowed ? 'block' : 'none';\n",
              "\n",
              "      async function convertToInteractive(key) {\n",
              "        const element = document.querySelector('#df-9b5a0b76-b00b-4ae9-9531-8f00c4390d7b');\n",
              "        const dataTable =\n",
              "          await google.colab.kernel.invokeFunction('convertToInteractive',\n",
              "                                                    [key], {});\n",
              "        if (!dataTable) return;\n",
              "\n",
              "        const docLinkHtml = 'Like what you see? Visit the ' +\n",
              "          '<a target=\"_blank\" href=https://colab.research.google.com/notebooks/data_table.ipynb>data table notebook</a>'\n",
              "          + ' to learn more about interactive tables.';\n",
              "        element.innerHTML = '';\n",
              "        dataTable['output_type'] = 'display_data';\n",
              "        await google.colab.output.renderOutput(dataTable, element);\n",
              "        const docLink = document.createElement('div');\n",
              "        docLink.innerHTML = docLinkHtml;\n",
              "        element.appendChild(docLink);\n",
              "      }\n",
              "    </script>\n",
              "  </div>\n",
              "\n",
              "\n",
              "<div id=\"df-140f7a7f-8ec8-4f81-b4c5-e7cb3f85c213\">\n",
              "  <button class=\"colab-df-quickchart\" onclick=\"quickchart('df-140f7a7f-8ec8-4f81-b4c5-e7cb3f85c213')\"\n",
              "            title=\"Suggest charts\"\n",
              "            style=\"display:none;\">\n",
              "\n",
              "<svg xmlns=\"http://www.w3.org/2000/svg\" height=\"24px\"viewBox=\"0 0 24 24\"\n",
              "     width=\"24px\">\n",
              "    <g>\n",
              "        <path d=\"M19 3H5c-1.1 0-2 .9-2 2v14c0 1.1.9 2 2 2h14c1.1 0 2-.9 2-2V5c0-1.1-.9-2-2-2zM9 17H7v-7h2v7zm4 0h-2V7h2v10zm4 0h-2v-4h2v4z\"/>\n",
              "    </g>\n",
              "</svg>\n",
              "  </button>\n",
              "\n",
              "<style>\n",
              "  .colab-df-quickchart {\n",
              "      --bg-color: #E8F0FE;\n",
              "      --fill-color: #1967D2;\n",
              "      --hover-bg-color: #E2EBFA;\n",
              "      --hover-fill-color: #174EA6;\n",
              "      --disabled-fill-color: #AAA;\n",
              "      --disabled-bg-color: #DDD;\n",
              "  }\n",
              "\n",
              "  [theme=dark] .colab-df-quickchart {\n",
              "      --bg-color: #3B4455;\n",
              "      --fill-color: #D2E3FC;\n",
              "      --hover-bg-color: #434B5C;\n",
              "      --hover-fill-color: #FFFFFF;\n",
              "      --disabled-bg-color: #3B4455;\n",
              "      --disabled-fill-color: #666;\n",
              "  }\n",
              "\n",
              "  .colab-df-quickchart {\n",
              "    background-color: var(--bg-color);\n",
              "    border: none;\n",
              "    border-radius: 50%;\n",
              "    cursor: pointer;\n",
              "    display: none;\n",
              "    fill: var(--fill-color);\n",
              "    height: 32px;\n",
              "    padding: 0;\n",
              "    width: 32px;\n",
              "  }\n",
              "\n",
              "  .colab-df-quickchart:hover {\n",
              "    background-color: var(--hover-bg-color);\n",
              "    box-shadow: 0 1px 2px rgba(60, 64, 67, 0.3), 0 1px 3px 1px rgba(60, 64, 67, 0.15);\n",
              "    fill: var(--button-hover-fill-color);\n",
              "  }\n",
              "\n",
              "  .colab-df-quickchart-complete:disabled,\n",
              "  .colab-df-quickchart-complete:disabled:hover {\n",
              "    background-color: var(--disabled-bg-color);\n",
              "    fill: var(--disabled-fill-color);\n",
              "    box-shadow: none;\n",
              "  }\n",
              "\n",
              "  .colab-df-spinner {\n",
              "    border: 2px solid var(--fill-color);\n",
              "    border-color: transparent;\n",
              "    border-bottom-color: var(--fill-color);\n",
              "    animation:\n",
              "      spin 1s steps(1) infinite;\n",
              "  }\n",
              "\n",
              "  @keyframes spin {\n",
              "    0% {\n",
              "      border-color: transparent;\n",
              "      border-bottom-color: var(--fill-color);\n",
              "      border-left-color: var(--fill-color);\n",
              "    }\n",
              "    20% {\n",
              "      border-color: transparent;\n",
              "      border-left-color: var(--fill-color);\n",
              "      border-top-color: var(--fill-color);\n",
              "    }\n",
              "    30% {\n",
              "      border-color: transparent;\n",
              "      border-left-color: var(--fill-color);\n",
              "      border-top-color: var(--fill-color);\n",
              "      border-right-color: var(--fill-color);\n",
              "    }\n",
              "    40% {\n",
              "      border-color: transparent;\n",
              "      border-right-color: var(--fill-color);\n",
              "      border-top-color: var(--fill-color);\n",
              "    }\n",
              "    60% {\n",
              "      border-color: transparent;\n",
              "      border-right-color: var(--fill-color);\n",
              "    }\n",
              "    80% {\n",
              "      border-color: transparent;\n",
              "      border-right-color: var(--fill-color);\n",
              "      border-bottom-color: var(--fill-color);\n",
              "    }\n",
              "    90% {\n",
              "      border-color: transparent;\n",
              "      border-bottom-color: var(--fill-color);\n",
              "    }\n",
              "  }\n",
              "</style>\n",
              "\n",
              "  <script>\n",
              "    async function quickchart(key) {\n",
              "      const quickchartButtonEl =\n",
              "        document.querySelector('#' + key + ' button');\n",
              "      quickchartButtonEl.disabled = true;  // To prevent multiple clicks.\n",
              "      quickchartButtonEl.classList.add('colab-df-spinner');\n",
              "      try {\n",
              "        const charts = await google.colab.kernel.invokeFunction(\n",
              "            'suggestCharts', [key], {});\n",
              "      } catch (error) {\n",
              "        console.error('Error during call to suggestCharts:', error);\n",
              "      }\n",
              "      quickchartButtonEl.classList.remove('colab-df-spinner');\n",
              "      quickchartButtonEl.classList.add('colab-df-quickchart-complete');\n",
              "    }\n",
              "    (() => {\n",
              "      let quickchartButtonEl =\n",
              "        document.querySelector('#df-140f7a7f-8ec8-4f81-b4c5-e7cb3f85c213 button');\n",
              "      quickchartButtonEl.style.display =\n",
              "        google.colab.kernel.accessAllowed ? 'block' : 'none';\n",
              "    })();\n",
              "  </script>\n",
              "</div>\n",
              "\n",
              "    </div>\n",
              "  </div>\n"
            ],
            "application/vnd.google.colaboratory.intrinsic+json": {
              "type": "dataframe",
              "variable_name": "df"
            }
          },
          "metadata": {},
          "execution_count": 5
        }
      ]
    },
    {
      "cell_type": "code",
      "source": [
        "df.columns = [col.strip().lower().replace('-', '_') for col in df.columns]\n",
        "\n",
        "print(\"Cleaned Column Names:\\n\", df.columns.tolist())\n"
      ],
      "metadata": {
        "colab": {
          "base_uri": "https://localhost:8080/"
        },
        "id": "0VDpA0rGZg7S",
        "outputId": "70e9bf8d-1dab-4b72-f347-c6e575b75cb8"
      },
      "execution_count": 7,
      "outputs": [
        {
          "output_type": "stream",
          "name": "stdout",
          "text": [
            "Cleaned Column Names:\n",
            " ['patientid', 'appointmentid', 'gender', 'scheduledday', 'appointmentday', 'age', 'neighbourhood', 'scholarship', 'hipertension', 'diabetes', 'alcoholism', 'handcap', 'sms_received', 'no_show']\n"
          ]
        }
      ]
    },
    {
      "cell_type": "code",
      "source": [
        "df.shape"
      ],
      "metadata": {
        "colab": {
          "base_uri": "https://localhost:8080/"
        },
        "id": "ok3nWRAealjV",
        "outputId": "4e9a44b5-5329-4c99-a50b-d879a4f95d36"
      },
      "execution_count": 8,
      "outputs": [
        {
          "output_type": "execute_result",
          "data": {
            "text/plain": [
              "(110527, 14)"
            ]
          },
          "metadata": {},
          "execution_count": 8
        }
      ]
    },
    {
      "cell_type": "code",
      "source": [
        "df = df.drop_duplicates()\n",
        "\n",
        "print(\"Shape after removing duplicates:\", df.shape)\n"
      ],
      "metadata": {
        "colab": {
          "base_uri": "https://localhost:8080/"
        },
        "id": "aQk8DxWpZzuV",
        "outputId": "84d3d664-ffb3-48c5-f1c7-8179b3ddb8fe"
      },
      "execution_count": 9,
      "outputs": [
        {
          "output_type": "stream",
          "name": "stdout",
          "text": [
            "Shape after removing duplicates: (110527, 14)\n"
          ]
        }
      ]
    },
    {
      "cell_type": "markdown",
      "source": [
        "#There are no Duplicates"
      ],
      "metadata": {
        "id": "DdvEC23Raap3"
      }
    },
    {
      "cell_type": "code",
      "source": [
        "df.isnull().sum()"
      ],
      "metadata": {
        "colab": {
          "base_uri": "https://localhost:8080/",
          "height": 523
        },
        "id": "StOgmxqzZam4",
        "outputId": "f1a2c6a5-f6e1-405d-faf0-db3ddba49952"
      },
      "execution_count": 10,
      "outputs": [
        {
          "output_type": "execute_result",
          "data": {
            "text/plain": [
              "patientid         0\n",
              "appointmentid     0\n",
              "gender            0\n",
              "scheduledday      0\n",
              "appointmentday    0\n",
              "age               0\n",
              "neighbourhood     0\n",
              "scholarship       0\n",
              "hipertension      0\n",
              "diabetes          0\n",
              "alcoholism        0\n",
              "handcap           0\n",
              "sms_received      0\n",
              "no_show           0\n",
              "dtype: int64"
            ],
            "text/html": [
              "<div>\n",
              "<style scoped>\n",
              "    .dataframe tbody tr th:only-of-type {\n",
              "        vertical-align: middle;\n",
              "    }\n",
              "\n",
              "    .dataframe tbody tr th {\n",
              "        vertical-align: top;\n",
              "    }\n",
              "\n",
              "    .dataframe thead th {\n",
              "        text-align: right;\n",
              "    }\n",
              "</style>\n",
              "<table border=\"1\" class=\"dataframe\">\n",
              "  <thead>\n",
              "    <tr style=\"text-align: right;\">\n",
              "      <th></th>\n",
              "      <th>0</th>\n",
              "    </tr>\n",
              "  </thead>\n",
              "  <tbody>\n",
              "    <tr>\n",
              "      <th>patientid</th>\n",
              "      <td>0</td>\n",
              "    </tr>\n",
              "    <tr>\n",
              "      <th>appointmentid</th>\n",
              "      <td>0</td>\n",
              "    </tr>\n",
              "    <tr>\n",
              "      <th>gender</th>\n",
              "      <td>0</td>\n",
              "    </tr>\n",
              "    <tr>\n",
              "      <th>scheduledday</th>\n",
              "      <td>0</td>\n",
              "    </tr>\n",
              "    <tr>\n",
              "      <th>appointmentday</th>\n",
              "      <td>0</td>\n",
              "    </tr>\n",
              "    <tr>\n",
              "      <th>age</th>\n",
              "      <td>0</td>\n",
              "    </tr>\n",
              "    <tr>\n",
              "      <th>neighbourhood</th>\n",
              "      <td>0</td>\n",
              "    </tr>\n",
              "    <tr>\n",
              "      <th>scholarship</th>\n",
              "      <td>0</td>\n",
              "    </tr>\n",
              "    <tr>\n",
              "      <th>hipertension</th>\n",
              "      <td>0</td>\n",
              "    </tr>\n",
              "    <tr>\n",
              "      <th>diabetes</th>\n",
              "      <td>0</td>\n",
              "    </tr>\n",
              "    <tr>\n",
              "      <th>alcoholism</th>\n",
              "      <td>0</td>\n",
              "    </tr>\n",
              "    <tr>\n",
              "      <th>handcap</th>\n",
              "      <td>0</td>\n",
              "    </tr>\n",
              "    <tr>\n",
              "      <th>sms_received</th>\n",
              "      <td>0</td>\n",
              "    </tr>\n",
              "    <tr>\n",
              "      <th>no_show</th>\n",
              "      <td>0</td>\n",
              "    </tr>\n",
              "  </tbody>\n",
              "</table>\n",
              "</div><br><label><b>dtype:</b> int64</label>"
            ]
          },
          "metadata": {},
          "execution_count": 10
        }
      ]
    },
    {
      "cell_type": "markdown",
      "source": [
        "No Missing Values"
      ],
      "metadata": {
        "id": "s2QWhNRja6GE"
      }
    },
    {
      "cell_type": "code",
      "source": [
        "df.dtypes"
      ],
      "metadata": {
        "colab": {
          "base_uri": "https://localhost:8080/",
          "height": 523
        },
        "id": "ajdo55RGYlRY",
        "outputId": "2c9cd7bb-649d-404a-defe-c56b567dc70f"
      },
      "execution_count": 11,
      "outputs": [
        {
          "output_type": "execute_result",
          "data": {
            "text/plain": [
              "patientid         float64\n",
              "appointmentid       int64\n",
              "gender             object\n",
              "scheduledday       object\n",
              "appointmentday     object\n",
              "age                 int64\n",
              "neighbourhood      object\n",
              "scholarship         int64\n",
              "hipertension        int64\n",
              "diabetes            int64\n",
              "alcoholism          int64\n",
              "handcap             int64\n",
              "sms_received        int64\n",
              "no_show            object\n",
              "dtype: object"
            ],
            "text/html": [
              "<div>\n",
              "<style scoped>\n",
              "    .dataframe tbody tr th:only-of-type {\n",
              "        vertical-align: middle;\n",
              "    }\n",
              "\n",
              "    .dataframe tbody tr th {\n",
              "        vertical-align: top;\n",
              "    }\n",
              "\n",
              "    .dataframe thead th {\n",
              "        text-align: right;\n",
              "    }\n",
              "</style>\n",
              "<table border=\"1\" class=\"dataframe\">\n",
              "  <thead>\n",
              "    <tr style=\"text-align: right;\">\n",
              "      <th></th>\n",
              "      <th>0</th>\n",
              "    </tr>\n",
              "  </thead>\n",
              "  <tbody>\n",
              "    <tr>\n",
              "      <th>patientid</th>\n",
              "      <td>float64</td>\n",
              "    </tr>\n",
              "    <tr>\n",
              "      <th>appointmentid</th>\n",
              "      <td>int64</td>\n",
              "    </tr>\n",
              "    <tr>\n",
              "      <th>gender</th>\n",
              "      <td>object</td>\n",
              "    </tr>\n",
              "    <tr>\n",
              "      <th>scheduledday</th>\n",
              "      <td>object</td>\n",
              "    </tr>\n",
              "    <tr>\n",
              "      <th>appointmentday</th>\n",
              "      <td>object</td>\n",
              "    </tr>\n",
              "    <tr>\n",
              "      <th>age</th>\n",
              "      <td>int64</td>\n",
              "    </tr>\n",
              "    <tr>\n",
              "      <th>neighbourhood</th>\n",
              "      <td>object</td>\n",
              "    </tr>\n",
              "    <tr>\n",
              "      <th>scholarship</th>\n",
              "      <td>int64</td>\n",
              "    </tr>\n",
              "    <tr>\n",
              "      <th>hipertension</th>\n",
              "      <td>int64</td>\n",
              "    </tr>\n",
              "    <tr>\n",
              "      <th>diabetes</th>\n",
              "      <td>int64</td>\n",
              "    </tr>\n",
              "    <tr>\n",
              "      <th>alcoholism</th>\n",
              "      <td>int64</td>\n",
              "    </tr>\n",
              "    <tr>\n",
              "      <th>handcap</th>\n",
              "      <td>int64</td>\n",
              "    </tr>\n",
              "    <tr>\n",
              "      <th>sms_received</th>\n",
              "      <td>int64</td>\n",
              "    </tr>\n",
              "    <tr>\n",
              "      <th>no_show</th>\n",
              "      <td>object</td>\n",
              "    </tr>\n",
              "  </tbody>\n",
              "</table>\n",
              "</div><br><label><b>dtype:</b> object</label>"
            ]
          },
          "metadata": {},
          "execution_count": 11
        }
      ]
    },
    {
      "cell_type": "code",
      "source": [
        "df['scheduledday'] = pd.to_datetime(df['scheduledday'])\n",
        "df['appointmentday'] = pd.to_datetime(df['appointmentday'])"
      ],
      "metadata": {
        "id": "QtUJIDZIayTG"
      },
      "execution_count": 12,
      "outputs": []
    },
    {
      "cell_type": "code",
      "source": [
        "print(\"ScheduledDay Type:\", df['scheduledday'].dtype)\n",
        "print(\"AppointmentDay Type:\", df['appointmentday'].dtype)"
      ],
      "metadata": {
        "colab": {
          "base_uri": "https://localhost:8080/"
        },
        "id": "DoSPv4l70din",
        "outputId": "577b2ca6-96fa-4414-8974-54b1d9c0959e"
      },
      "execution_count": 14,
      "outputs": [
        {
          "output_type": "stream",
          "name": "stdout",
          "text": [
            "ScheduledDay Type: datetime64[ns, UTC]\n",
            "AppointmentDay Type: datetime64[ns, UTC]\n"
          ]
        }
      ]
    },
    {
      "cell_type": "code",
      "source": [
        "df.describe()"
      ],
      "metadata": {
        "colab": {
          "base_uri": "https://localhost:8080/",
          "height": 300
        },
        "id": "cxTpTZ3g0jBm",
        "outputId": "72249995-9fe6-4eff-9cb7-e943eb78078c"
      },
      "execution_count": 15,
      "outputs": [
        {
          "output_type": "execute_result",
          "data": {
            "text/plain": [
              "          patientid  appointmentid            age    scholarship  \\\n",
              "count  1.105270e+05   1.105270e+05  110527.000000  110527.000000   \n",
              "mean   1.474963e+14   5.675305e+06      37.088874       0.098266   \n",
              "std    2.560949e+14   7.129575e+04      23.110205       0.297675   \n",
              "min    3.921784e+04   5.030230e+06      -1.000000       0.000000   \n",
              "25%    4.172614e+12   5.640286e+06      18.000000       0.000000   \n",
              "50%    3.173184e+13   5.680573e+06      37.000000       0.000000   \n",
              "75%    9.439172e+13   5.725524e+06      55.000000       0.000000   \n",
              "max    9.999816e+14   5.790484e+06     115.000000       1.000000   \n",
              "\n",
              "        hipertension       diabetes     alcoholism        handcap  \\\n",
              "count  110527.000000  110527.000000  110527.000000  110527.000000   \n",
              "mean        0.197246       0.071865       0.030400       0.022248   \n",
              "std         0.397921       0.258265       0.171686       0.161543   \n",
              "min         0.000000       0.000000       0.000000       0.000000   \n",
              "25%         0.000000       0.000000       0.000000       0.000000   \n",
              "50%         0.000000       0.000000       0.000000       0.000000   \n",
              "75%         0.000000       0.000000       0.000000       0.000000   \n",
              "max         1.000000       1.000000       1.000000       4.000000   \n",
              "\n",
              "        sms_received  \n",
              "count  110527.000000  \n",
              "mean        0.321026  \n",
              "std         0.466873  \n",
              "min         0.000000  \n",
              "25%         0.000000  \n",
              "50%         0.000000  \n",
              "75%         1.000000  \n",
              "max         1.000000  "
            ],
            "text/html": [
              "\n",
              "  <div id=\"df-877019af-1e40-4ee9-a5ad-753e529eada1\" class=\"colab-df-container\">\n",
              "    <div>\n",
              "<style scoped>\n",
              "    .dataframe tbody tr th:only-of-type {\n",
              "        vertical-align: middle;\n",
              "    }\n",
              "\n",
              "    .dataframe tbody tr th {\n",
              "        vertical-align: top;\n",
              "    }\n",
              "\n",
              "    .dataframe thead th {\n",
              "        text-align: right;\n",
              "    }\n",
              "</style>\n",
              "<table border=\"1\" class=\"dataframe\">\n",
              "  <thead>\n",
              "    <tr style=\"text-align: right;\">\n",
              "      <th></th>\n",
              "      <th>patientid</th>\n",
              "      <th>appointmentid</th>\n",
              "      <th>age</th>\n",
              "      <th>scholarship</th>\n",
              "      <th>hipertension</th>\n",
              "      <th>diabetes</th>\n",
              "      <th>alcoholism</th>\n",
              "      <th>handcap</th>\n",
              "      <th>sms_received</th>\n",
              "    </tr>\n",
              "  </thead>\n",
              "  <tbody>\n",
              "    <tr>\n",
              "      <th>count</th>\n",
              "      <td>1.105270e+05</td>\n",
              "      <td>1.105270e+05</td>\n",
              "      <td>110527.000000</td>\n",
              "      <td>110527.000000</td>\n",
              "      <td>110527.000000</td>\n",
              "      <td>110527.000000</td>\n",
              "      <td>110527.000000</td>\n",
              "      <td>110527.000000</td>\n",
              "      <td>110527.000000</td>\n",
              "    </tr>\n",
              "    <tr>\n",
              "      <th>mean</th>\n",
              "      <td>1.474963e+14</td>\n",
              "      <td>5.675305e+06</td>\n",
              "      <td>37.088874</td>\n",
              "      <td>0.098266</td>\n",
              "      <td>0.197246</td>\n",
              "      <td>0.071865</td>\n",
              "      <td>0.030400</td>\n",
              "      <td>0.022248</td>\n",
              "      <td>0.321026</td>\n",
              "    </tr>\n",
              "    <tr>\n",
              "      <th>std</th>\n",
              "      <td>2.560949e+14</td>\n",
              "      <td>7.129575e+04</td>\n",
              "      <td>23.110205</td>\n",
              "      <td>0.297675</td>\n",
              "      <td>0.397921</td>\n",
              "      <td>0.258265</td>\n",
              "      <td>0.171686</td>\n",
              "      <td>0.161543</td>\n",
              "      <td>0.466873</td>\n",
              "    </tr>\n",
              "    <tr>\n",
              "      <th>min</th>\n",
              "      <td>3.921784e+04</td>\n",
              "      <td>5.030230e+06</td>\n",
              "      <td>-1.000000</td>\n",
              "      <td>0.000000</td>\n",
              "      <td>0.000000</td>\n",
              "      <td>0.000000</td>\n",
              "      <td>0.000000</td>\n",
              "      <td>0.000000</td>\n",
              "      <td>0.000000</td>\n",
              "    </tr>\n",
              "    <tr>\n",
              "      <th>25%</th>\n",
              "      <td>4.172614e+12</td>\n",
              "      <td>5.640286e+06</td>\n",
              "      <td>18.000000</td>\n",
              "      <td>0.000000</td>\n",
              "      <td>0.000000</td>\n",
              "      <td>0.000000</td>\n",
              "      <td>0.000000</td>\n",
              "      <td>0.000000</td>\n",
              "      <td>0.000000</td>\n",
              "    </tr>\n",
              "    <tr>\n",
              "      <th>50%</th>\n",
              "      <td>3.173184e+13</td>\n",
              "      <td>5.680573e+06</td>\n",
              "      <td>37.000000</td>\n",
              "      <td>0.000000</td>\n",
              "      <td>0.000000</td>\n",
              "      <td>0.000000</td>\n",
              "      <td>0.000000</td>\n",
              "      <td>0.000000</td>\n",
              "      <td>0.000000</td>\n",
              "    </tr>\n",
              "    <tr>\n",
              "      <th>75%</th>\n",
              "      <td>9.439172e+13</td>\n",
              "      <td>5.725524e+06</td>\n",
              "      <td>55.000000</td>\n",
              "      <td>0.000000</td>\n",
              "      <td>0.000000</td>\n",
              "      <td>0.000000</td>\n",
              "      <td>0.000000</td>\n",
              "      <td>0.000000</td>\n",
              "      <td>1.000000</td>\n",
              "    </tr>\n",
              "    <tr>\n",
              "      <th>max</th>\n",
              "      <td>9.999816e+14</td>\n",
              "      <td>5.790484e+06</td>\n",
              "      <td>115.000000</td>\n",
              "      <td>1.000000</td>\n",
              "      <td>1.000000</td>\n",
              "      <td>1.000000</td>\n",
              "      <td>1.000000</td>\n",
              "      <td>4.000000</td>\n",
              "      <td>1.000000</td>\n",
              "    </tr>\n",
              "  </tbody>\n",
              "</table>\n",
              "</div>\n",
              "    <div class=\"colab-df-buttons\">\n",
              "\n",
              "  <div class=\"colab-df-container\">\n",
              "    <button class=\"colab-df-convert\" onclick=\"convertToInteractive('df-877019af-1e40-4ee9-a5ad-753e529eada1')\"\n",
              "            title=\"Convert this dataframe to an interactive table.\"\n",
              "            style=\"display:none;\">\n",
              "\n",
              "  <svg xmlns=\"http://www.w3.org/2000/svg\" height=\"24px\" viewBox=\"0 -960 960 960\">\n",
              "    <path d=\"M120-120v-720h720v720H120Zm60-500h600v-160H180v160Zm220 220h160v-160H400v160Zm0 220h160v-160H400v160ZM180-400h160v-160H180v160Zm440 0h160v-160H620v160ZM180-180h160v-160H180v160Zm440 0h160v-160H620v160Z\"/>\n",
              "  </svg>\n",
              "    </button>\n",
              "\n",
              "  <style>\n",
              "    .colab-df-container {\n",
              "      display:flex;\n",
              "      gap: 12px;\n",
              "    }\n",
              "\n",
              "    .colab-df-convert {\n",
              "      background-color: #E8F0FE;\n",
              "      border: none;\n",
              "      border-radius: 50%;\n",
              "      cursor: pointer;\n",
              "      display: none;\n",
              "      fill: #1967D2;\n",
              "      height: 32px;\n",
              "      padding: 0 0 0 0;\n",
              "      width: 32px;\n",
              "    }\n",
              "\n",
              "    .colab-df-convert:hover {\n",
              "      background-color: #E2EBFA;\n",
              "      box-shadow: 0px 1px 2px rgba(60, 64, 67, 0.3), 0px 1px 3px 1px rgba(60, 64, 67, 0.15);\n",
              "      fill: #174EA6;\n",
              "    }\n",
              "\n",
              "    .colab-df-buttons div {\n",
              "      margin-bottom: 4px;\n",
              "    }\n",
              "\n",
              "    [theme=dark] .colab-df-convert {\n",
              "      background-color: #3B4455;\n",
              "      fill: #D2E3FC;\n",
              "    }\n",
              "\n",
              "    [theme=dark] .colab-df-convert:hover {\n",
              "      background-color: #434B5C;\n",
              "      box-shadow: 0px 1px 3px 1px rgba(0, 0, 0, 0.15);\n",
              "      filter: drop-shadow(0px 1px 2px rgba(0, 0, 0, 0.3));\n",
              "      fill: #FFFFFF;\n",
              "    }\n",
              "  </style>\n",
              "\n",
              "    <script>\n",
              "      const buttonEl =\n",
              "        document.querySelector('#df-877019af-1e40-4ee9-a5ad-753e529eada1 button.colab-df-convert');\n",
              "      buttonEl.style.display =\n",
              "        google.colab.kernel.accessAllowed ? 'block' : 'none';\n",
              "\n",
              "      async function convertToInteractive(key) {\n",
              "        const element = document.querySelector('#df-877019af-1e40-4ee9-a5ad-753e529eada1');\n",
              "        const dataTable =\n",
              "          await google.colab.kernel.invokeFunction('convertToInteractive',\n",
              "                                                    [key], {});\n",
              "        if (!dataTable) return;\n",
              "\n",
              "        const docLinkHtml = 'Like what you see? Visit the ' +\n",
              "          '<a target=\"_blank\" href=https://colab.research.google.com/notebooks/data_table.ipynb>data table notebook</a>'\n",
              "          + ' to learn more about interactive tables.';\n",
              "        element.innerHTML = '';\n",
              "        dataTable['output_type'] = 'display_data';\n",
              "        await google.colab.output.renderOutput(dataTable, element);\n",
              "        const docLink = document.createElement('div');\n",
              "        docLink.innerHTML = docLinkHtml;\n",
              "        element.appendChild(docLink);\n",
              "      }\n",
              "    </script>\n",
              "  </div>\n",
              "\n",
              "\n",
              "<div id=\"df-3f52a462-a20c-424a-8cb6-c1b3728018fc\">\n",
              "  <button class=\"colab-df-quickchart\" onclick=\"quickchart('df-3f52a462-a20c-424a-8cb6-c1b3728018fc')\"\n",
              "            title=\"Suggest charts\"\n",
              "            style=\"display:none;\">\n",
              "\n",
              "<svg xmlns=\"http://www.w3.org/2000/svg\" height=\"24px\"viewBox=\"0 0 24 24\"\n",
              "     width=\"24px\">\n",
              "    <g>\n",
              "        <path d=\"M19 3H5c-1.1 0-2 .9-2 2v14c0 1.1.9 2 2 2h14c1.1 0 2-.9 2-2V5c0-1.1-.9-2-2-2zM9 17H7v-7h2v7zm4 0h-2V7h2v10zm4 0h-2v-4h2v4z\"/>\n",
              "    </g>\n",
              "</svg>\n",
              "  </button>\n",
              "\n",
              "<style>\n",
              "  .colab-df-quickchart {\n",
              "      --bg-color: #E8F0FE;\n",
              "      --fill-color: #1967D2;\n",
              "      --hover-bg-color: #E2EBFA;\n",
              "      --hover-fill-color: #174EA6;\n",
              "      --disabled-fill-color: #AAA;\n",
              "      --disabled-bg-color: #DDD;\n",
              "  }\n",
              "\n",
              "  [theme=dark] .colab-df-quickchart {\n",
              "      --bg-color: #3B4455;\n",
              "      --fill-color: #D2E3FC;\n",
              "      --hover-bg-color: #434B5C;\n",
              "      --hover-fill-color: #FFFFFF;\n",
              "      --disabled-bg-color: #3B4455;\n",
              "      --disabled-fill-color: #666;\n",
              "  }\n",
              "\n",
              "  .colab-df-quickchart {\n",
              "    background-color: var(--bg-color);\n",
              "    border: none;\n",
              "    border-radius: 50%;\n",
              "    cursor: pointer;\n",
              "    display: none;\n",
              "    fill: var(--fill-color);\n",
              "    height: 32px;\n",
              "    padding: 0;\n",
              "    width: 32px;\n",
              "  }\n",
              "\n",
              "  .colab-df-quickchart:hover {\n",
              "    background-color: var(--hover-bg-color);\n",
              "    box-shadow: 0 1px 2px rgba(60, 64, 67, 0.3), 0 1px 3px 1px rgba(60, 64, 67, 0.15);\n",
              "    fill: var(--button-hover-fill-color);\n",
              "  }\n",
              "\n",
              "  .colab-df-quickchart-complete:disabled,\n",
              "  .colab-df-quickchart-complete:disabled:hover {\n",
              "    background-color: var(--disabled-bg-color);\n",
              "    fill: var(--disabled-fill-color);\n",
              "    box-shadow: none;\n",
              "  }\n",
              "\n",
              "  .colab-df-spinner {\n",
              "    border: 2px solid var(--fill-color);\n",
              "    border-color: transparent;\n",
              "    border-bottom-color: var(--fill-color);\n",
              "    animation:\n",
              "      spin 1s steps(1) infinite;\n",
              "  }\n",
              "\n",
              "  @keyframes spin {\n",
              "    0% {\n",
              "      border-color: transparent;\n",
              "      border-bottom-color: var(--fill-color);\n",
              "      border-left-color: var(--fill-color);\n",
              "    }\n",
              "    20% {\n",
              "      border-color: transparent;\n",
              "      border-left-color: var(--fill-color);\n",
              "      border-top-color: var(--fill-color);\n",
              "    }\n",
              "    30% {\n",
              "      border-color: transparent;\n",
              "      border-left-color: var(--fill-color);\n",
              "      border-top-color: var(--fill-color);\n",
              "      border-right-color: var(--fill-color);\n",
              "    }\n",
              "    40% {\n",
              "      border-color: transparent;\n",
              "      border-right-color: var(--fill-color);\n",
              "      border-top-color: var(--fill-color);\n",
              "    }\n",
              "    60% {\n",
              "      border-color: transparent;\n",
              "      border-right-color: var(--fill-color);\n",
              "    }\n",
              "    80% {\n",
              "      border-color: transparent;\n",
              "      border-right-color: var(--fill-color);\n",
              "      border-bottom-color: var(--fill-color);\n",
              "    }\n",
              "    90% {\n",
              "      border-color: transparent;\n",
              "      border-bottom-color: var(--fill-color);\n",
              "    }\n",
              "  }\n",
              "</style>\n",
              "\n",
              "  <script>\n",
              "    async function quickchart(key) {\n",
              "      const quickchartButtonEl =\n",
              "        document.querySelector('#' + key + ' button');\n",
              "      quickchartButtonEl.disabled = true;  // To prevent multiple clicks.\n",
              "      quickchartButtonEl.classList.add('colab-df-spinner');\n",
              "      try {\n",
              "        const charts = await google.colab.kernel.invokeFunction(\n",
              "            'suggestCharts', [key], {});\n",
              "      } catch (error) {\n",
              "        console.error('Error during call to suggestCharts:', error);\n",
              "      }\n",
              "      quickchartButtonEl.classList.remove('colab-df-spinner');\n",
              "      quickchartButtonEl.classList.add('colab-df-quickchart-complete');\n",
              "    }\n",
              "    (() => {\n",
              "      let quickchartButtonEl =\n",
              "        document.querySelector('#df-3f52a462-a20c-424a-8cb6-c1b3728018fc button');\n",
              "      quickchartButtonEl.style.display =\n",
              "        google.colab.kernel.accessAllowed ? 'block' : 'none';\n",
              "    })();\n",
              "  </script>\n",
              "</div>\n",
              "\n",
              "    </div>\n",
              "  </div>\n"
            ],
            "application/vnd.google.colaboratory.intrinsic+json": {
              "type": "dataframe",
              "summary": "{\n  \"name\": \"df\",\n  \"rows\": 8,\n  \"fields\": [\n    {\n      \"column\": \"patientid\",\n      \"properties\": {\n        \"dtype\": \"number\",\n        \"std\": 338725104975282.06,\n        \"min\": 39217.84439,\n        \"max\": 999981631772427.0,\n        \"num_unique_values\": 8,\n        \"samples\": [\n          147496265710394.06,\n          31731838713978.0,\n          110527.0\n        ],\n        \"semantic_type\": \"\",\n        \"description\": \"\"\n      }\n    },\n    {\n      \"column\": \"appointmentid\",\n      \"properties\": {\n        \"dtype\": \"number\",\n        \"std\": 2556706.763895736,\n        \"min\": 71295.75153966916,\n        \"max\": 5790484.0,\n        \"num_unique_values\": 8,\n        \"samples\": [\n          5675305.123426855,\n          5680573.0,\n          110527.0\n        ],\n        \"semantic_type\": \"\",\n        \"description\": \"\"\n      }\n    },\n    {\n      \"column\": \"age\",\n      \"properties\": {\n        \"dtype\": \"number\",\n        \"std\": 39062.85658579293,\n        \"min\": -1.0,\n        \"max\": 110527.0,\n        \"num_unique_values\": 8,\n        \"samples\": [\n          37.08887421173107,\n          37.0,\n          110527.0\n        ],\n        \"semantic_type\": \"\",\n        \"description\": \"\"\n      }\n    },\n    {\n      \"column\": \"scholarship\",\n      \"properties\": {\n        \"dtype\": \"number\",\n        \"std\": 39077.125097967306,\n        \"min\": 0.0,\n        \"max\": 110527.0,\n        \"num_unique_values\": 5,\n        \"samples\": [\n          0.09826558216544373,\n          1.0,\n          0.29767475410942307\n        ],\n        \"semantic_type\": \"\",\n        \"description\": \"\"\n      }\n    },\n    {\n      \"column\": \"hipertension\",\n      \"properties\": {\n        \"dtype\": \"number\",\n        \"std\": 39077.11503551282,\n        \"min\": 0.0,\n        \"max\": 110527.0,\n        \"num_unique_values\": 5,\n        \"samples\": [\n          0.1972459218109602,\n          1.0,\n          0.39792134994753325\n        ],\n        \"semantic_type\": \"\",\n        \"description\": \"\"\n      }\n    },\n    {\n      \"column\": \"diabetes\",\n      \"properties\": {\n        \"dtype\": \"number\",\n        \"std\": 39077.128421896545,\n        \"min\": 0.0,\n        \"max\": 110527.0,\n        \"num_unique_values\": 5,\n        \"samples\": [\n          0.07186479321794674,\n          1.0,\n          0.2582650735076741\n        ],\n        \"semantic_type\": \"\",\n        \"description\": \"\"\n      }\n    },\n    {\n      \"column\": \"alcoholism\",\n      \"properties\": {\n        \"dtype\": \"number\",\n        \"std\": 39077.134889129266,\n        \"min\": 0.0,\n        \"max\": 110527.0,\n        \"num_unique_values\": 5,\n        \"samples\": [\n          0.030399811810688793,\n          1.0,\n          0.17168555541436223\n        ],\n        \"semantic_type\": \"\",\n        \"description\": \"\"\n      }\n    },\n    {\n      \"column\": \"handcap\",\n      \"properties\": {\n        \"dtype\": \"number\",\n        \"std\": 39076.98431348663,\n        \"min\": 0.0,\n        \"max\": 110527.0,\n        \"num_unique_values\": 5,\n        \"samples\": [\n          0.022247957512643968,\n          4.0,\n          0.1615427258143932\n        ],\n        \"semantic_type\": \"\",\n        \"description\": \"\"\n      }\n    },\n    {\n      \"column\": \"sms_received\",\n      \"properties\": {\n        \"dtype\": \"number\",\n        \"std\": 39077.054794184485,\n        \"min\": 0.0,\n        \"max\": 110527.0,\n        \"num_unique_values\": 5,\n        \"samples\": [\n          0.32102563174608917,\n          1.0,\n          0.46687273170178245\n        ],\n        \"semantic_type\": \"\",\n        \"description\": \"\"\n      }\n    }\n  ]\n}"
            }
          },
          "metadata": {},
          "execution_count": 15
        }
      ]
    },
    {
      "cell_type": "markdown",
      "source": [
        "Above we found that age is min -1 so it is invalid we have to change that"
      ],
      "metadata": {
        "id": "rzvET7s61Cgx"
      }
    },
    {
      "cell_type": "code",
      "source": [
        "df = df[df['age'] >= 0]\n"
      ],
      "metadata": {
        "id": "ky0xMzR1031j"
      },
      "execution_count": 16,
      "outputs": []
    },
    {
      "cell_type": "code",
      "source": [
        "df['age'].min()  #Checking whether it is updated or not\n"
      ],
      "metadata": {
        "colab": {
          "base_uri": "https://localhost:8080/"
        },
        "id": "8f7XxYdo1APu",
        "outputId": "9fd143a9-237f-4caf-c8b7-8a5b3622f3d2"
      },
      "execution_count": 18,
      "outputs": [
        {
          "output_type": "execute_result",
          "data": {
            "text/plain": [
              "0"
            ]
          },
          "metadata": {},
          "execution_count": 18
        }
      ]
    },
    {
      "cell_type": "markdown",
      "source": [
        "# Clean Categorical Columns"
      ],
      "metadata": {
        "id": "5wCRENCI1cVs"
      }
    },
    {
      "cell_type": "code",
      "source": [
        "df['gender'].unique()\n"
      ],
      "metadata": {
        "colab": {
          "base_uri": "https://localhost:8080/"
        },
        "id": "fm63TDst1LEm",
        "outputId": "d09a35a0-20a5-4866-a32c-56104f031105"
      },
      "execution_count": 20,
      "outputs": [
        {
          "output_type": "execute_result",
          "data": {
            "text/plain": [
              "array(['F', 'M'], dtype=object)"
            ]
          },
          "metadata": {},
          "execution_count": 20
        }
      ]
    },
    {
      "cell_type": "code",
      "source": [
        "df['no_show'].unique()"
      ],
      "metadata": {
        "colab": {
          "base_uri": "https://localhost:8080/"
        },
        "id": "PrrArWAI1XWB",
        "outputId": "b8730366-8c7f-4977-9fae-02c42d005186"
      },
      "execution_count": 23,
      "outputs": [
        {
          "output_type": "execute_result",
          "data": {
            "text/plain": [
              "array(['No', 'Yes'], dtype=object)"
            ]
          },
          "metadata": {},
          "execution_count": 23
        }
      ]
    },
    {
      "cell_type": "code",
      "source": [
        "df['handcap'].value_counts()"
      ],
      "metadata": {
        "colab": {
          "base_uri": "https://localhost:8080/",
          "height": 272
        },
        "id": "T-J9ldbF1hWp",
        "outputId": "475b31ec-3224-401e-e2cd-ddb666aced27"
      },
      "execution_count": 25,
      "outputs": [
        {
          "output_type": "execute_result",
          "data": {
            "text/plain": [
              "handcap\n",
              "0    108285\n",
              "1      2042\n",
              "2       183\n",
              "3        13\n",
              "4         3\n",
              "Name: count, dtype: int64"
            ],
            "text/html": [
              "<div>\n",
              "<style scoped>\n",
              "    .dataframe tbody tr th:only-of-type {\n",
              "        vertical-align: middle;\n",
              "    }\n",
              "\n",
              "    .dataframe tbody tr th {\n",
              "        vertical-align: top;\n",
              "    }\n",
              "\n",
              "    .dataframe thead th {\n",
              "        text-align: right;\n",
              "    }\n",
              "</style>\n",
              "<table border=\"1\" class=\"dataframe\">\n",
              "  <thead>\n",
              "    <tr style=\"text-align: right;\">\n",
              "      <th></th>\n",
              "      <th>count</th>\n",
              "    </tr>\n",
              "    <tr>\n",
              "      <th>handcap</th>\n",
              "      <th></th>\n",
              "    </tr>\n",
              "  </thead>\n",
              "  <tbody>\n",
              "    <tr>\n",
              "      <th>0</th>\n",
              "      <td>108285</td>\n",
              "    </tr>\n",
              "    <tr>\n",
              "      <th>1</th>\n",
              "      <td>2042</td>\n",
              "    </tr>\n",
              "    <tr>\n",
              "      <th>2</th>\n",
              "      <td>183</td>\n",
              "    </tr>\n",
              "    <tr>\n",
              "      <th>3</th>\n",
              "      <td>13</td>\n",
              "    </tr>\n",
              "    <tr>\n",
              "      <th>4</th>\n",
              "      <td>3</td>\n",
              "    </tr>\n",
              "  </tbody>\n",
              "</table>\n",
              "</div><br><label><b>dtype:</b> int64</label>"
            ]
          },
          "metadata": {},
          "execution_count": 25
        }
      ]
    },
    {
      "cell_type": "markdown",
      "source": [
        "# Value\tMeaning (likely)\tCount\n",
        "0\tNo disability\t108,285\n",
        "\n",
        "\n",
        "1\tSome disability\n",
        "\n",
        "\n",
        "But values 2, 3, 4 are super rare (only 199 total — less than 0.2%). This might be data entry error or simply unnecessary granularity."
      ],
      "metadata": {
        "id": "IzLpH1CO17Pf"
      }
    },
    {
      "cell_type": "code",
      "source": [
        "df['handcap'] = df['handcap'].apply(lambda x: 1 if x > 0 else 0)\n"
      ],
      "metadata": {
        "id": "zNBwjaJz1ug7"
      },
      "execution_count": 28,
      "outputs": []
    },
    {
      "cell_type": "code",
      "source": [
        "df['handcap'].value_counts()\n"
      ],
      "metadata": {
        "colab": {
          "base_uri": "https://localhost:8080/",
          "height": 178
        },
        "id": "PH98eoXo2GSn",
        "outputId": "45386f0d-1d91-465a-b530-baedbd73f571"
      },
      "execution_count": 29,
      "outputs": [
        {
          "output_type": "execute_result",
          "data": {
            "text/plain": [
              "handcap\n",
              "0    108285\n",
              "1      2241\n",
              "Name: count, dtype: int64"
            ],
            "text/html": [
              "<div>\n",
              "<style scoped>\n",
              "    .dataframe tbody tr th:only-of-type {\n",
              "        vertical-align: middle;\n",
              "    }\n",
              "\n",
              "    .dataframe tbody tr th {\n",
              "        vertical-align: top;\n",
              "    }\n",
              "\n",
              "    .dataframe thead th {\n",
              "        text-align: right;\n",
              "    }\n",
              "</style>\n",
              "<table border=\"1\" class=\"dataframe\">\n",
              "  <thead>\n",
              "    <tr style=\"text-align: right;\">\n",
              "      <th></th>\n",
              "      <th>count</th>\n",
              "    </tr>\n",
              "    <tr>\n",
              "      <th>handcap</th>\n",
              "      <th></th>\n",
              "    </tr>\n",
              "  </thead>\n",
              "  <tbody>\n",
              "    <tr>\n",
              "      <th>0</th>\n",
              "      <td>108285</td>\n",
              "    </tr>\n",
              "    <tr>\n",
              "      <th>1</th>\n",
              "      <td>2241</td>\n",
              "    </tr>\n",
              "  </tbody>\n",
              "</table>\n",
              "</div><br><label><b>dtype:</b> int64</label>"
            ]
          },
          "metadata": {},
          "execution_count": 29
        }
      ]
    },
    {
      "cell_type": "markdown",
      "source": [
        "#Let’s check for duplicate rows in the dataset."
      ],
      "metadata": {
        "id": "EhT_XuC72Rpw"
      }
    },
    {
      "cell_type": "code",
      "source": [
        "df.duplicated().sum()"
      ],
      "metadata": {
        "colab": {
          "base_uri": "https://localhost:8080/"
        },
        "id": "65EqhF6G2LhJ",
        "outputId": "94afb328-906e-4c0c-c980-72b32e6435f5"
      },
      "execution_count": 30,
      "outputs": [
        {
          "output_type": "execute_result",
          "data": {
            "text/plain": [
              "np.int64(0)"
            ]
          },
          "metadata": {},
          "execution_count": 30
        }
      ]
    },
    {
      "cell_type": "markdown",
      "source": [
        "Here's a short summary of the changes made to the dataset:\n",
        "\n",
        "### Summary of Changes:\n",
        "1. **Handled missing values**: No missing values were found, so no further action was needed.\n",
        "2. **Removed duplicate rows**: The dataset had no duplicates, so nothing was removed.\n",
        "3. **Standardized text values**:\n",
        "   - The `Gender` column values were consistent (`F` for female, `M` for male).\n",
        "   - The `Handcap` column values were confirmed as numerical and standardized.\n",
        "4. **Converted date formats**:\n",
        "   - The `ScheduledDay` and `AppointmentDay` columns were converted to `datetime` type for consistency.\n",
        "5. **Renamed columns**:\n",
        "   - All column names were cleaned to be lowercase with no spaces (e.g., `No-show` became `no_show`).\n",
        "6. **Checked and fixed data types**:\n",
        "   - Ensured that `Age` is an integer, and both `ScheduledDay` and `AppointmentDay` are `datetime`.\n",
        "\n",
        "The dataset is now cleaned and ready for further analysis."
      ],
      "metadata": {
        "id": "y2_0s6Tf3jbG"
      }
    },
    {
      "cell_type": "code",
      "source": [],
      "metadata": {
        "id": "3OcTTNce2Vil"
      },
      "execution_count": null,
      "outputs": []
    }
  ]
}